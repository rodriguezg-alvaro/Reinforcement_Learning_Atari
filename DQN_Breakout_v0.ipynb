{
  "nbformat": 4,
  "nbformat_minor": 0,
  "metadata": {
    "colab": {
      "name": "Breakout_v0.ipynb",
      "provenance": []
    },
    "kernelspec": {
      "name": "python3",
      "display_name": "Python 3"
    },
    "language_info": {
      "name": "python"
    },
    "accelerator": "GPU"
  },
  "cells": [
    {
      "cell_type": "markdown",
      "source": [
        "Importamos la libreria Gym con la que trabajaremos."
      ],
      "metadata": {
        "id": "PKZAh_UY5d6Y"
      }
    },
    {
      "cell_type": "code",
      "source": [
        "!apt update\n",
        "!apt install -y xvfb\n",
        "!pip install -U pyvirtualdisplay"
      ],
      "metadata": {
        "colab": {
          "base_uri": "https://localhost:8080/"
        },
        "id": "cX6Z1wZIWkaB",
        "outputId": "11463ae7-1680-4eea-e646-ccf91c844c3a"
      },
      "execution_count": 1,
      "outputs": [
        {
          "output_type": "stream",
          "name": "stdout",
          "text": [
            "\u001b[33m\r0% [Working]\u001b[0m\r            \rGet:1 https://cloud.r-project.org/bin/linux/ubuntu bionic-cran40/ InRelease [3,626 B]\n",
            "\u001b[33m\r0% [Connecting to archive.ubuntu.com] [Connecting to security.ubuntu.com (185.1\u001b[0m\u001b[33m\r0% [Connecting to archive.ubuntu.com] [Connecting to security.ubuntu.com (185.1\u001b[0m\u001b[33m\r0% [1 InRelease gpgv 3,626 B] [Connecting to archive.ubuntu.com] [Connecting to\u001b[0m\r                                                                               \rIgn:2 https://developer.download.nvidia.com/compute/cuda/repos/ubuntu1804/x86_64  InRelease\n",
            "\u001b[33m\r0% [1 InRelease gpgv 3,626 B] [Connecting to archive.ubuntu.com] [Connecting to\u001b[0m\r                                                                               \rIgn:3 https://developer.download.nvidia.com/compute/machine-learning/repos/ubuntu1804/x86_64  InRelease\n",
            "\u001b[33m\r0% [1 InRelease gpgv 3,626 B] [Connecting to archive.ubuntu.com] [Connecting to\u001b[0m\r                                                                               \rHit:4 https://developer.download.nvidia.com/compute/cuda/repos/ubuntu1804/x86_64  Release\n",
            "Hit:5 https://developer.download.nvidia.com/compute/machine-learning/repos/ubuntu1804/x86_64  Release\n",
            "Get:6 http://security.ubuntu.com/ubuntu bionic-security InRelease [88.7 kB]\n",
            "Get:7 http://ppa.launchpad.net/c2d4u.team/c2d4u4.0+/ubuntu bionic InRelease [15.9 kB]\n",
            "Hit:8 http://archive.ubuntu.com/ubuntu bionic InRelease\n",
            "Get:9 http://archive.ubuntu.com/ubuntu bionic-updates InRelease [88.7 kB]\n",
            "Get:10 http://archive.ubuntu.com/ubuntu bionic-backports InRelease [74.6 kB]\n",
            "Hit:12 http://ppa.launchpad.net/cran/libgit2/ubuntu bionic InRelease\n",
            "Get:14 http://ppa.launchpad.net/deadsnakes/ppa/ubuntu bionic InRelease [15.9 kB]\n",
            "Get:15 http://archive.ubuntu.com/ubuntu bionic-updates/restricted amd64 Packages [942 kB]\n",
            "Hit:16 http://ppa.launchpad.net/graphics-drivers/ppa/ubuntu bionic InRelease\n",
            "Get:17 http://archive.ubuntu.com/ubuntu bionic-updates/main amd64 Packages [3,167 kB]\n",
            "Get:18 http://ppa.launchpad.net/c2d4u.team/c2d4u4.0+/ubuntu bionic/main Sources [1,949 kB]\n",
            "Get:19 http://security.ubuntu.com/ubuntu bionic-security/universe amd64 Packages [1,496 kB]\n",
            "Get:20 http://archive.ubuntu.com/ubuntu bionic-updates/universe amd64 Packages [2,272 kB]\n",
            "Get:21 http://security.ubuntu.com/ubuntu bionic-security/restricted amd64 Packages [909 kB]\n",
            "Get:22 http://security.ubuntu.com/ubuntu bionic-security/main amd64 Packages [2,732 kB]\n",
            "Get:23 http://ppa.launchpad.net/c2d4u.team/c2d4u4.0+/ubuntu bionic/main amd64 Packages [999 kB]\n",
            "Get:24 http://ppa.launchpad.net/deadsnakes/ppa/ubuntu bionic/main amd64 Packages [45.3 kB]\n",
            "Fetched 14.8 MB in 4s (3,459 kB/s)\n",
            "Reading package lists... Done\n",
            "Building dependency tree       \n",
            "Reading state information... Done\n",
            "56 packages can be upgraded. Run 'apt list --upgradable' to see them.\n",
            "Reading package lists... Done\n",
            "Building dependency tree       \n",
            "Reading state information... Done\n",
            "The following NEW packages will be installed:\n",
            "  xvfb\n",
            "0 upgraded, 1 newly installed, 0 to remove and 56 not upgraded.\n",
            "Need to get 784 kB of archives.\n",
            "After this operation, 2,271 kB of additional disk space will be used.\n",
            "Get:1 http://archive.ubuntu.com/ubuntu bionic-updates/universe amd64 xvfb amd64 2:1.19.6-1ubuntu4.10 [784 kB]\n",
            "Fetched 784 kB in 1s (1,451 kB/s)\n",
            "Selecting previously unselected package xvfb.\n",
            "(Reading database ... 155501 files and directories currently installed.)\n",
            "Preparing to unpack .../xvfb_2%3a1.19.6-1ubuntu4.10_amd64.deb ...\n",
            "Unpacking xvfb (2:1.19.6-1ubuntu4.10) ...\n",
            "Setting up xvfb (2:1.19.6-1ubuntu4.10) ...\n",
            "Processing triggers for man-db (2.8.3-2ubuntu0.1) ...\n",
            "Collecting pyvirtualdisplay\n",
            "  Downloading PyVirtualDisplay-3.0-py3-none-any.whl (15 kB)\n",
            "Installing collected packages: pyvirtualdisplay\n",
            "Successfully installed pyvirtualdisplay-3.0\n"
          ]
        }
      ]
    },
    {
      "cell_type": "code",
      "execution_count": 2,
      "metadata": {
        "id": "byuxjNlI4XQ3"
      },
      "outputs": [],
      "source": [
        "import gym\n",
        "import tensorflow as tf\n",
        "from tensorflow import keras\n",
        "from keras import layers\n",
        "assert tf.__version__ >= \"2.0\"\n",
        "import sklearn\n",
        "import gym\n",
        "import numpy as np\n",
        "import random\n",
        "import os\n",
        "import matplotlib as mpl\n",
        "import matplotlib.pyplot as plt\n",
        "import matplotlib.animation as animation\n",
        "import time\n",
        "from collections import deque"
      ]
    },
    {
      "cell_type": "markdown",
      "source": [
        "Establecemos el entorno deseado, que en nuestro caso es el de Breakout"
      ],
      "metadata": {
        "id": "ncbsaceb5jVc"
      }
    },
    {
      "cell_type": "code",
      "source": [
        "! wget http://www.atarimania.com/roms/Roms.rar\n",
        "! mkdir /content/ROM/\n",
        "! unrar e /content/Roms.rar /content/ROM/\n",
        "! python -m atari_py.import_roms /content/ROM/"
      ],
      "metadata": {
        "colab": {
          "base_uri": "https://localhost:8080/"
        },
        "id": "I0uOLlT1_Ztb",
        "outputId": "4ee0afbf-7c4b-4dd8-918a-d6f09c651001"
      },
      "execution_count": 4,
      "outputs": [
        {
          "output_type": "stream",
          "name": "stdout",
          "text": [
            "--2022-04-25 18:03:51--  http://www.atarimania.com/roms/Roms.rar\n",
            "Resolving www.atarimania.com (www.atarimania.com)... 195.154.81.199\n",
            "Connecting to www.atarimania.com (www.atarimania.com)|195.154.81.199|:80... connected.\n",
            "HTTP request sent, awaiting response... 200 OK\n",
            "Length: 19583716 (19M) [application/x-rar-compressed]\n",
            "Saving to: ‘Roms.rar.1’\n",
            "\n",
            "Roms.rar.1          100%[===================>]  18.68M   480KB/s    in 41s     \n",
            "\n",
            "2022-04-25 18:04:32 (467 KB/s) - ‘Roms.rar.1’ saved [19583716/19583716]\n",
            "\n",
            "mkdir: cannot create directory ‘/content/ROM/’: File exists\n",
            "\n",
            "UNRAR 5.50 freeware      Copyright (c) 1993-2017 Alexander Roshal\n",
            "\n",
            "\n",
            "Extracting from /content/Roms.rar\n",
            "\n",
            "\n",
            "Would you like to replace the existing file /content/ROM/128 in 1 Game Select ROM (Unknown) ~.bin\n",
            "  2048 bytes, modified on 2017-11-20 22:54\n",
            "with a new one\n",
            "  2048 bytes, modified on 2017-11-20 22:54\n",
            "\n",
            "[Y]es, [N]o, [A]ll, n[E]ver, [R]ename, [Q]uit N\n",
            "\n",
            "\n",
            "Would you like to replace the existing file /content/ROM/2 in 1 - Chess, Othello (Atari) (Prototype).bin\n",
            "  8192 bytes, modified on 2020-11-27 07:22\n",
            "with a new one\n",
            "  8192 bytes, modified on 2020-11-27 07:22\n",
            "\n",
            "[Y]es, [N]o, [A]ll, n[E]ver, [R]ename, [Q]uit E\n",
            "\n",
            "No files to extract\n",
            "copying atlantis.bin from /content/ROM/Atlantis.bin to /usr/local/lib/python3.7/dist-packages/atari_py/atari_roms/atlantis.bin\n",
            "copying montezuma_revenge.bin from /content/ROM/Montezuma's Revenge - Featuring Panama Joe.bin to /usr/local/lib/python3.7/dist-packages/atari_py/atari_roms/montezuma_revenge.bin\n",
            "copying elevator_action.bin from /content/ROM/Elevator Action (Prototype).bin to /usr/local/lib/python3.7/dist-packages/atari_py/atari_roms/elevator_action.bin\n",
            "copying donkey_kong.bin from /content/ROM/Donkey Kong.bin to /usr/local/lib/python3.7/dist-packages/atari_py/atari_roms/donkey_kong.bin\n",
            "copying freeway.bin from /content/ROM/Freeway.bin to /usr/local/lib/python3.7/dist-packages/atari_py/atari_roms/freeway.bin\n",
            "copying time_pilot.bin from /content/ROM/Time Pilot (1983) (Coleco - Woodside Design Associates, Harley H. Puthuff Jr.) (2663) ~.bin to /usr/local/lib/python3.7/dist-packages/atari_py/atari_roms/time_pilot.bin\n",
            "copying frogger.bin from /content/ROM/Frogger.bin to /usr/local/lib/python3.7/dist-packages/atari_py/atari_roms/frogger.bin\n",
            "copying laser_gates.bin from /content/ROM/Laser Gates (AKA Innerspace) (1983) (Imagic, Dan Oliver) (720118-2A, 13208, EIX-007-04I) (PAL).bin to /usr/local/lib/python3.7/dist-packages/atari_py/atari_roms/laser_gates.bin\n",
            "copying tutankham.bin from /content/ROM/Tutankham (1983) (Parker Brothers, Dave Engman, Dawn Stockbridge) (PB5340) ~.bin to /usr/local/lib/python3.7/dist-packages/atari_py/atari_roms/tutankham.bin\n",
            "copying demon_attack.bin from /content/ROM/Demon Attack.bin to /usr/local/lib/python3.7/dist-packages/atari_py/atari_roms/demon_attack.bin\n",
            "copying solaris.bin from /content/ROM/Solaris.bin to /usr/local/lib/python3.7/dist-packages/atari_py/atari_roms/solaris.bin\n",
            "copying assault.bin from /content/ROM/Assault (AKA Sky Alien) (1983) (Bomb - Onbase) (CA281).bin to /usr/local/lib/python3.7/dist-packages/atari_py/atari_roms/assault.bin\n",
            "copying lost_luggage.bin from /content/ROM/Lost Luggage (Airport Mayhem) (1982) (Apollo - Games by Apollo, Larry Minor, Ernie Runyon, Ed Salvo) (AP-2004) [no opening scene] ~.bin to /usr/local/lib/python3.7/dist-packages/atari_py/atari_roms/lost_luggage.bin\n",
            "copying pacman.bin from /content/ROM/Pac-Man (PAL).bin to /usr/local/lib/python3.7/dist-packages/atari_py/atari_roms/pacman.bin\n",
            "copying double_dunk.bin from /content/ROM/Double Dunk.bin to /usr/local/lib/python3.7/dist-packages/atari_py/atari_roms/double_dunk.bin\n",
            "copying pitfall.bin from /content/ROM/Pitfall! - Pitfall Harry's Jungle Adventure (Jungle Runner) (1982) (Activision, David Crane) (AX-018, AX-018-04) ~.bin to /usr/local/lib/python3.7/dist-packages/atari_py/atari_roms/pitfall.bin\n",
            "copying zaxxon.bin from /content/ROM/Zaxxon.bin to /usr/local/lib/python3.7/dist-packages/atari_py/atari_roms/zaxxon.bin\n",
            "copying bank_heist.bin from /content/ROM/Bank Heist.bin to /usr/local/lib/python3.7/dist-packages/atari_py/atari_roms/bank_heist.bin\n",
            "copying name_this_game.bin from /content/ROM/Name This Game.bin to /usr/local/lib/python3.7/dist-packages/atari_py/atari_roms/name_this_game.bin\n",
            "copying kangaroo.bin from /content/ROM/Kangaroo.bin to /usr/local/lib/python3.7/dist-packages/atari_py/atari_roms/kangaroo.bin\n",
            "copying koolaid.bin from /content/ROM/Kool-Aid Man.bin to /usr/local/lib/python3.7/dist-packages/atari_py/atari_roms/koolaid.bin\n",
            "copying ms_pacman.bin from /content/ROM/Ms. Pac-Man.bin to /usr/local/lib/python3.7/dist-packages/atari_py/atari_roms/ms_pacman.bin\n",
            "copying crazy_climber.bin from /content/ROM/Crazy Climber (1983) (Atari - Roklan, Joe Gaucher, Alex Leavens) (CX2683) ~.bin to /usr/local/lib/python3.7/dist-packages/atari_py/atari_roms/crazy_climber.bin\n",
            "copying yars_revenge.bin from /content/ROM/Yars' Revenge.bin to /usr/local/lib/python3.7/dist-packages/atari_py/atari_roms/yars_revenge.bin\n",
            "copying star_gunner.bin from /content/ROM/Stargunner (1983) (Telesys, Alex Leavens) (1005) ~.bin to /usr/local/lib/python3.7/dist-packages/atari_py/atari_roms/star_gunner.bin\n",
            "copying wizard_of_wor.bin from /content/ROM/Wizard of Wor.bin to /usr/local/lib/python3.7/dist-packages/atari_py/atari_roms/wizard_of_wor.bin\n",
            "copying keystone_kapers.bin from /content/ROM/Keystone Kapers - Raueber und Gendarm (1983) (Activision, Garry Kitchen - Ariola) (EAX-025, EAX-025-04I - 711 025-725) (PAL).bin to /usr/local/lib/python3.7/dist-packages/atari_py/atari_roms/keystone_kapers.bin\n",
            "copying breakout.bin from /content/ROM/Breakout - Breakaway IV.bin to /usr/local/lib/python3.7/dist-packages/atari_py/atari_roms/breakout.bin\n",
            "copying carnival.bin from /content/ROM/Carnival (1982) (Coleco - Woodside Design Associates, Steve 'Jessica Stevens' Kitchen) (2468) ~.bin to /usr/local/lib/python3.7/dist-packages/atari_py/atari_roms/carnival.bin\n",
            "copying gopher.bin from /content/ROM/Gopher (Gopher Attack) (1982) (U.S. Games Corporation - JWDA, Sylvia Day, Todd Marshall, Robin McDaniel, Henry Will IV) (VC2001) ~.bin to /usr/local/lib/python3.7/dist-packages/atari_py/atari_roms/gopher.bin\n",
            "copying pooyan.bin from /content/ROM/Pooyan (1983) (Konami) (RC 100-X 02) ~.bin to /usr/local/lib/python3.7/dist-packages/atari_py/atari_roms/pooyan.bin\n",
            "copying centipede.bin from /content/ROM/Centipede.bin to /usr/local/lib/python3.7/dist-packages/atari_py/atari_roms/centipede.bin\n",
            "copying trondead.bin from /content/ROM/TRON - Deadly Discs (TRON Joystick) (1983) (M Network - INTV - APh Technological Consulting, Jeff Ronne, Brett Stutz) (MT5662) ~.bin to /usr/local/lib/python3.7/dist-packages/atari_py/atari_roms/trondead.bin\n",
            "copying boxing.bin from /content/ROM/Boxing.bin to /usr/local/lib/python3.7/dist-packages/atari_py/atari_roms/boxing.bin\n",
            "copying skiing.bin from /content/ROM/Skiing.bin to /usr/local/lib/python3.7/dist-packages/atari_py/atari_roms/skiing.bin\n",
            "copying venture.bin from /content/ROM/Venture.bin to /usr/local/lib/python3.7/dist-packages/atari_py/atari_roms/venture.bin\n",
            "copying air_raid.bin from /content/ROM/Air Raid (Men-A-Vision) (PAL) ~.bin to /usr/local/lib/python3.7/dist-packages/atari_py/atari_roms/air_raid.bin\n",
            "copying riverraid.bin from /content/ROM/River Raid (1982) (Activision, Carol Shaw) (AX-020, AX-020-04) ~.bin to /usr/local/lib/python3.7/dist-packages/atari_py/atari_roms/riverraid.bin\n",
            "copying ice_hockey.bin from /content/ROM/Ice Hockey.bin to /usr/local/lib/python3.7/dist-packages/atari_py/atari_roms/ice_hockey.bin\n",
            "copying robotank.bin from /content/ROM/Robot Tank.bin to /usr/local/lib/python3.7/dist-packages/atari_py/atari_roms/robotank.bin\n",
            "copying qbert.bin from /content/ROM/Q-bert (1983) (Parker Brothers - Western Technologies, Dave Hampton, Tom Sloper) (PB5360) ~.bin to /usr/local/lib/python3.7/dist-packages/atari_py/atari_roms/qbert.bin\n",
            "copying tennis.bin from /content/ROM/Tennis.bin to /usr/local/lib/python3.7/dist-packages/atari_py/atari_roms/tennis.bin\n",
            "copying enduro.bin from /content/ROM/Enduro.bin to /usr/local/lib/python3.7/dist-packages/atari_py/atari_roms/enduro.bin\n",
            "copying chopper_command.bin from /content/ROM/Chopper Command.bin to /usr/local/lib/python3.7/dist-packages/atari_py/atari_roms/chopper_command.bin\n",
            "copying adventure.bin from /content/ROM/Adventure (PAL).bin to /usr/local/lib/python3.7/dist-packages/atari_py/atari_roms/adventure.bin\n",
            "copying king_kong.bin from /content/ROM/King Kong (1982) (Tigervision - Software Electronics Corporation, Karl T. Olinger - Teldec) (7-001 - 3.60001 VE) (PAL).bin to /usr/local/lib/python3.7/dist-packages/atari_py/atari_roms/king_kong.bin\n",
            "copying kung_fu_master.bin from /content/ROM/Kung-Fu Master (1987) (Activision - Imagineering, Dan Kitchen, Garry Kitchen) (AG-039-04) ~.bin to /usr/local/lib/python3.7/dist-packages/atari_py/atari_roms/kung_fu_master.bin\n",
            "copying space_invaders.bin from /content/ROM/Space Invaders (1980) (Atari, Richard Maurer - Sears) (CX2632 - 49-75153) ~.bin to /usr/local/lib/python3.7/dist-packages/atari_py/atari_roms/space_invaders.bin\n",
            "copying seaquest.bin from /content/ROM/Seaquest.bin to /usr/local/lib/python3.7/dist-packages/atari_py/atari_roms/seaquest.bin\n",
            "copying phoenix.bin from /content/ROM/Phoenix.bin to /usr/local/lib/python3.7/dist-packages/atari_py/atari_roms/phoenix.bin\n",
            "copying journey_escape.bin from /content/ROM/Journey Escape (1983) (Data Age, J. Ray Dettling) (112-006) ~.bin to /usr/local/lib/python3.7/dist-packages/atari_py/atari_roms/journey_escape.bin\n",
            "copying berzerk.bin from /content/ROM/Berzerk (1982) (Atari, Dan Hitchens - Sears) (CX2650 - 49-75168) ~.bin to /usr/local/lib/python3.7/dist-packages/atari_py/atari_roms/berzerk.bin\n",
            "copying battle_zone.bin from /content/ROM/Battlezone.bin to /usr/local/lib/python3.7/dist-packages/atari_py/atari_roms/battle_zone.bin\n",
            "copying asterix.bin from /content/ROM/Asterix (AKA Taz) (1984) (Atari, Jerome Domurat, Steve Woita) (CX2696).bin to /usr/local/lib/python3.7/dist-packages/atari_py/atari_roms/asterix.bin\n",
            "copying kaboom.bin from /content/ROM/Kaboom!.bin to /usr/local/lib/python3.7/dist-packages/atari_py/atari_roms/kaboom.bin\n",
            "copying road_runner.bin from patched version of /content/ROM/Road Runner (1989) (Atari - Bobco, Robert C. Polaro) (CX2663) ~.bin to /usr/local/lib/python3.7/dist-packages/atari_py/atari_roms/road_runner.bin\n",
            "copying video_pinball.bin from /content/ROM/Pinball (AKA Video Pinball) (Zellers).bin to /usr/local/lib/python3.7/dist-packages/atari_py/atari_roms/video_pinball.bin\n",
            "copying bowling.bin from /content/ROM/Bowling (1979) (Atari, Larry Kaplan - Sears) (CX2628 - 6-99842, 49-75117) ~.bin to /usr/local/lib/python3.7/dist-packages/atari_py/atari_roms/bowling.bin\n",
            "copying pong.bin from /content/ROM/Video Olympics - Pong Sports (Paddle) (1977) (Atari, Joe Decuir - Sears) (CX2621 - 99806, 6-99806, 49-75104) ~.bin to /usr/local/lib/python3.7/dist-packages/atari_py/atari_roms/pong.bin\n",
            "copying beam_rider.bin from /content/ROM/Beamrider (1984) (Activision - Cheshire Engineering, David Rolfe, Larry Zwick) (AZ-037-04) ~.bin to /usr/local/lib/python3.7/dist-packages/atari_py/atari_roms/beam_rider.bin\n",
            "copying mr_do.bin from /content/ROM/Mr. Do! (1983) (CBS Electronics - Individeo, Ed English) (4L4478) (PAL).bin to /usr/local/lib/python3.7/dist-packages/atari_py/atari_roms/mr_do.bin\n",
            "copying alien.bin from /content/ROM/Alien.bin to /usr/local/lib/python3.7/dist-packages/atari_py/atari_roms/alien.bin\n",
            "copying frostbite.bin from /content/ROM/Frostbite (Iceman) (1983) (Activision, Steve Cartwright) (AX-031) ~.bin to /usr/local/lib/python3.7/dist-packages/atari_py/atari_roms/frostbite.bin\n",
            "copying surround.bin from /content/ROM/Surround - Chase.bin to /usr/local/lib/python3.7/dist-packages/atari_py/atari_roms/surround.bin\n",
            "copying up_n_down.bin from /content/ROM/Up 'n Down.bin to /usr/local/lib/python3.7/dist-packages/atari_py/atari_roms/up_n_down.bin\n",
            "copying fishing_derby.bin from /content/ROM/Fishing Derby (1980) (Activision, David Crane) (AG-004) ~.bin to /usr/local/lib/python3.7/dist-packages/atari_py/atari_roms/fishing_derby.bin\n",
            "copying private_eye.bin from /content/ROM/Private Eye (1984) (Activision, Bob Whitehead) (AG-034-04) ~.bin to /usr/local/lib/python3.7/dist-packages/atari_py/atari_roms/private_eye.bin\n",
            "copying hero.bin from /content/ROM/H.E.R.O. (1984) (Activision, John Van Ryzin) (AZ-036-04) ~.bin to /usr/local/lib/python3.7/dist-packages/atari_py/atari_roms/hero.bin\n",
            "copying asteroids.bin from /content/ROM/Asteroids [no copyright].bin to /usr/local/lib/python3.7/dist-packages/atari_py/atari_roms/asteroids.bin\n",
            "copying gravitar.bin from /content/ROM/Gravitar (1983) (Atari, Dan Hitchens, Mimi Nyden) (CX2685) ~.bin to /usr/local/lib/python3.7/dist-packages/atari_py/atari_roms/gravitar.bin\n",
            "copying galaxian.bin from /content/ROM/Galaxian.bin to /usr/local/lib/python3.7/dist-packages/atari_py/atari_roms/galaxian.bin\n",
            "copying sir_lancelot.bin from /content/ROM/Sir Lancelot (PAL).bin to /usr/local/lib/python3.7/dist-packages/atari_py/atari_roms/sir_lancelot.bin\n",
            "copying amidar.bin from /content/ROM/Amidar (1982) (Parker Brothers, Ed Temple) (PB5310) ~.bin to /usr/local/lib/python3.7/dist-packages/atari_py/atari_roms/amidar.bin\n",
            "copying defender.bin from /content/ROM/Defender (1982) (Atari, Robert C. Polaro, Alan J. Murphy - Sears) (CX2609 - 49-75186) ~.bin to /usr/local/lib/python3.7/dist-packages/atari_py/atari_roms/defender.bin\n",
            "copying jamesbond.bin from /content/ROM/James Bond 007 (James Bond Agent 007) (1984) (Parker Brothers - On-Time Software, Joe Gaucher, Dan Kurczewski, Louis Marbel, Kathy Von) (PB5110) ~.bin to /usr/local/lib/python3.7/dist-packages/atari_py/atari_roms/jamesbond.bin\n",
            "copying krull.bin from /content/ROM/Krull (1983) (Atari, Jerome Domurat, Dave Staugas) (CX2682) ~.bin to /usr/local/lib/python3.7/dist-packages/atari_py/atari_roms/krull.bin\n"
          ]
        }
      ]
    },
    {
      "cell_type": "code",
      "source": [
        "env = gym.make(\"Breakout-v0\")"
      ],
      "metadata": {
        "id": "vZv6YZ8M4amZ"
      },
      "execution_count": 5,
      "outputs": []
    },
    {
      "cell_type": "markdown",
      "source": [
        "Ponemos todo bonito para las visualizaciones:"
      ],
      "metadata": {
        "id": "9SCDK0yCDQ0S"
      }
    },
    {
      "cell_type": "code",
      "source": [
        "mpl.rc('axes', labelsize=28)\n",
        "mpl.rc('xtick', labelsize=24)\n",
        "mpl.rc('ytick', labelsize=24)\n",
        "mpl.rc('animation', html='jshtml')"
      ],
      "metadata": {
        "id": "xCwt48MvDN1u"
      },
      "execution_count": 6,
      "outputs": []
    },
    {
      "cell_type": "code",
      "source": [
        "env.seed(2022)\n",
        "obs = env.reset()\n",
        "obs"
      ],
      "metadata": {
        "id": "v7Cqv5Yk6EJR",
        "colab": {
          "base_uri": "https://localhost:8080/"
        },
        "outputId": "7cb6bba9-054e-4e5b-c570-fa5e58e908b6"
      },
      "execution_count": 7,
      "outputs": [
        {
          "output_type": "execute_result",
          "data": {
            "text/plain": [
              "array([[[0, 0, 0],\n",
              "        [0, 0, 0],\n",
              "        [0, 0, 0],\n",
              "        ...,\n",
              "        [0, 0, 0],\n",
              "        [0, 0, 0],\n",
              "        [0, 0, 0]],\n",
              "\n",
              "       [[0, 0, 0],\n",
              "        [0, 0, 0],\n",
              "        [0, 0, 0],\n",
              "        ...,\n",
              "        [0, 0, 0],\n",
              "        [0, 0, 0],\n",
              "        [0, 0, 0]],\n",
              "\n",
              "       [[0, 0, 0],\n",
              "        [0, 0, 0],\n",
              "        [0, 0, 0],\n",
              "        ...,\n",
              "        [0, 0, 0],\n",
              "        [0, 0, 0],\n",
              "        [0, 0, 0]],\n",
              "\n",
              "       ...,\n",
              "\n",
              "       [[0, 0, 0],\n",
              "        [0, 0, 0],\n",
              "        [0, 0, 0],\n",
              "        ...,\n",
              "        [0, 0, 0],\n",
              "        [0, 0, 0],\n",
              "        [0, 0, 0]],\n",
              "\n",
              "       [[0, 0, 0],\n",
              "        [0, 0, 0],\n",
              "        [0, 0, 0],\n",
              "        ...,\n",
              "        [0, 0, 0],\n",
              "        [0, 0, 0],\n",
              "        [0, 0, 0]],\n",
              "\n",
              "       [[0, 0, 0],\n",
              "        [0, 0, 0],\n",
              "        [0, 0, 0],\n",
              "        ...,\n",
              "        [0, 0, 0],\n",
              "        [0, 0, 0],\n",
              "        [0, 0, 0]]], dtype=uint8)"
            ]
          },
          "metadata": {},
          "execution_count": 7
        }
      ]
    },
    {
      "cell_type": "code",
      "source": [
        "for i in range(22):\n",
        "  if i > 20:\n",
        "    plt.imshow(obs)\n",
        "    plt.show()\n",
        "\n",
        "\n",
        "  obs, puntuacion, muerto, vidas = env.step(3)\n",
        "  "
      ],
      "metadata": {
        "colab": {
          "base_uri": "https://localhost:8080/",
          "height": 288
        },
        "id": "ZSXbw9KDC0f_",
        "outputId": "70b4b5b2-7f73-4c9e-dcec-4ed420534f95"
      },
      "execution_count": 8,
      "outputs": [
        {
          "output_type": "display_data",
          "data": {
            "text/plain": [
              "<Figure size 432x288 with 1 Axes>"
            ],
            "image/png": "[encoded data removed]"
          },
          "metadata": {
            "needs_background": "light"
          }
        }
      ]
    },
    {
      "cell_type": "code",
      "source": [
        "muerto"
      ],
      "metadata": {
        "colab": {
          "base_uri": "https://localhost:8080/"
        },
        "id": "rfwpe09higsz",
        "outputId": "a42298d9-a052-4a99-a47c-9de4ffb3dfb3"
      },
      "execution_count": 9,
      "outputs": [
        {
          "output_type": "execute_result",
          "data": {
            "text/plain": [
              "False"
            ]
          },
          "metadata": {},
          "execution_count": 9
        }
      ]
    },
    {
      "cell_type": "code",
      "source": [
        "try:\n",
        "    import pyvirtualdisplay\n",
        "    display = pyvirtualdisplay.Display(visible=0, size=(1400, 900)).start()\n",
        "except ImportError:\n",
        "    pass"
      ],
      "metadata": {
        "id": "iVExJU5FRp6K"
      },
      "execution_count": 10,
      "outputs": []
    },
    {
      "cell_type": "code",
      "source": [
        "env.observation_space.shape"
      ],
      "metadata": {
        "colab": {
          "base_uri": "https://localhost:8080/"
        },
        "id": "_zsqYyXcWfNP",
        "outputId": "34e50a23-6032-4370-e4d8-9215454e02b9"
      },
      "execution_count": 11,
      "outputs": [
        {
          "output_type": "execute_result",
          "data": {
            "text/plain": [
              "(210, 160, 3)"
            ]
          },
          "metadata": {},
          "execution_count": 11
        }
      ]
    },
    {
      "cell_type": "code",
      "source": [
        "env.action_space.n"
      ],
      "metadata": {
        "colab": {
          "base_uri": "https://localhost:8080/"
        },
        "id": "6gq9F_8HWi3D",
        "outputId": "ba95607d-3cc9-43c8-be4b-e65b95e21466"
      },
      "execution_count": 12,
      "outputs": [
        {
          "output_type": "execute_result",
          "data": {
            "text/plain": [
              "4"
            ]
          },
          "metadata": {},
          "execution_count": 12
        }
      ]
    },
    {
      "cell_type": "code",
      "source": [
        "env.render()"
      ],
      "metadata": {
        "colab": {
          "base_uri": "https://localhost:8080/"
        },
        "id": "Hh4VfagSWxE0",
        "outputId": "beba3fc2-0ca1-41ae-a126-ea03ac03c7a0"
      },
      "execution_count": 13,
      "outputs": [
        {
          "output_type": "execute_result",
          "data": {
            "text/plain": [
              "True"
            ]
          },
          "metadata": {},
          "execution_count": 13
        }
      ]
    },
    {
      "cell_type": "code",
      "source": [
        "env.unwrapped.get_action_meanings()"
      ],
      "metadata": {
        "colab": {
          "base_uri": "https://localhost:8080/"
        },
        "id": "v_MMc4QrWyfp",
        "outputId": "0efd6a9e-34c3-49d2-8390-6155bb87d3c2"
      },
      "execution_count": 14,
      "outputs": [
        {
          "output_type": "execute_result",
          "data": {
            "text/plain": [
              "['NOOP', 'FIRE', 'RIGHT', 'LEFT']"
            ]
          },
          "metadata": {},
          "execution_count": 14
        }
      ]
    },
    {
      "cell_type": "markdown",
      "source": [
        "# Creamos la CNN Deep Q-Network"
      ],
      "metadata": {
        "id": "LHWlnwYCW33K"
      }
    },
    {
      "cell_type": "code",
      "source": [
        "# Reseteamos todo lo que hayamos hecho hasta ahora\n",
        "keras.backend.clear_session()\n",
        "\n",
        "# Establecemos una seed para los diferentes paquetes que nos importan\n",
        "tf.random.set_seed(41)\n",
        "np.random.seed(41)\n",
        "\n",
        "# Definimos nuestro entorno\n",
        "env = gym.make('Breakout-v0')"
      ],
      "metadata": {
        "id": "vT0LvA6VW76v"
      },
      "execution_count": 15,
      "outputs": []
    },
    {
      "cell_type": "code",
      "source": [
        "# El input lo hemos obtenido antes\n",
        "input_shape = [210, 160, 3] \n",
        "\n",
        "# El número de outputs debe coincidir con el número de posibles acciones\n",
        "n_outputs = 4 \n",
        "\n",
        "# Creamos la estructura de la red\n",
        "model = keras.models.Sequential([\n",
        "    keras.layers.Conv2D(64, kernel_size=3, input_shape = input_shape, activation=\"elu\"),\n",
        "    keras.layers.MaxPooling2D(pool_size=(2,2)),\n",
        "    keras.layers.Dropout(0.2),\n",
        "    keras.layers.Conv2D(128, kernel_size=3,activation=\"elu\"),\n",
        "    keras.layers.MaxPooling2D(pool_size=(2,2)),\n",
        "    keras.layers.Dropout(0.2),\n",
        "    keras.layers.Flatten(),          \n",
        "    keras.layers.Dense(128, activation=\"elu\"),\n",
        "    keras.layers.Dense(n_outputs, activation=\"softmax\")\n",
        "])\n",
        "\n",
        "# Establecemos Adam como optimizador con un learning rate\n",
        "optimizer = keras.optimizers.Adam(lr=1e-3)\n",
        "\n",
        "# Definimos la función de pérdida\n",
        "loss_fn = keras.losses.mean_squared_error\n",
        "#loss_fn = keras.losses.Huber()\n",
        "\n",
        "# Printeamos la estructura de la red\n",
        "model.summary()"
      ],
      "metadata": {
        "colab": {
          "base_uri": "https://localhost:8080/"
        },
        "id": "Cl8OxYglXJC-",
        "outputId": "4855eae3-1b1c-43c0-b57f-07ea1a44ca5b"
      },
      "execution_count": 16,
      "outputs": [
        {
          "output_type": "stream",
          "name": "stdout",
          "text": [
            "Model: \"sequential\"\n",
            "_________________________________________________________________\n",
            " Layer (type)                Output Shape              Param #   \n",
            "=================================================================\n",
            " conv2d (Conv2D)             (None, 208, 158, 64)      1792      \n",
            "                                                                 \n",
            " max_pooling2d (MaxPooling2D  (None, 104, 79, 64)      0         \n",
            " )                                                               \n",
            "                                                                 \n",
            " dropout (Dropout)           (None, 104, 79, 64)       0         \n",
            "                                                                 \n",
            " conv2d_1 (Conv2D)           (None, 102, 77, 128)      73856     \n",
            "                                                                 \n",
            " max_pooling2d_1 (MaxPooling  (None, 51, 38, 128)      0         \n",
            " 2D)                                                             \n",
            "                                                                 \n",
            " dropout_1 (Dropout)         (None, 51, 38, 128)       0         \n",
            "                                                                 \n",
            " flatten (Flatten)           (None, 248064)            0         \n",
            "                                                                 \n",
            " dense (Dense)               (None, 128)               31752320  \n",
            "                                                                 \n",
            " dense_1 (Dense)             (None, 4)                 516       \n",
            "                                                                 \n",
            "=================================================================\n",
            "Total params: 31,828,484\n",
            "Trainable params: 31,828,484\n",
            "Non-trainable params: 0\n",
            "_________________________________________________________________\n"
          ]
        },
        {
          "output_type": "stream",
          "name": "stderr",
          "text": [
            "/usr/local/lib/python3.7/dist-packages/keras/optimizer_v2/adam.py:105: UserWarning: The `lr` argument is deprecated, use `learning_rate` instead.\n",
            "  super(Adam, self).__init__(name, **kwargs)\n"
          ]
        }
      ]
    },
    {
      "cell_type": "code",
      "source": [
        "# Establecemos una función para la politica de seleccion de accion\n",
        "def epsilon_greedy_policy(state, epsilon=0):\n",
        "    if np.random.rand() < epsilon:\n",
        "        return np.random.randint(4)\n",
        "    else:\n",
        "        Q_values = model.predict(state[np.newaxis])\n",
        "        return np.argmax(Q_values[0])"
      ],
      "metadata": {
        "id": "cSIqCRaKXQY7"
      },
      "execution_count": 17,
      "outputs": []
    },
    {
      "cell_type": "code",
      "source": [
        "# Establecemos container de longitud maxima 200000\n",
        "replay_memory = deque(maxlen=200000)"
      ],
      "metadata": {
        "id": "J4TpkIlMXUau"
      },
      "execution_count": 18,
      "outputs": []
    },
    {
      "cell_type": "code",
      "source": [
        "def sample_experiences(batch_size):\n",
        "    # Escogemos n = batch_size de indices de forma aleatoria\n",
        "    indices = np.random.randint(len(replay_memory), size=batch_size)\n",
        "    # Definimos el conjunto de batch con los indices obtenidos\n",
        "    batch = [replay_memory[index] for index in indices]\n",
        "    # Sacamos los datos de la memoria del conjunto de batch \n",
        "    states, actions, rewards, next_states, dones = [\n",
        "        np.array([experience[field_index] for experience in batch])\n",
        "        for field_index in range(5)]\n",
        "    return states, actions, rewards, next_states, dones"
      ],
      "metadata": {
        "id": "maPDfAELXYNj"
      },
      "execution_count": 19,
      "outputs": []
    },
    {
      "cell_type": "code",
      "source": [
        "def play_one_step(env, state, epsilon):\n",
        "    # Tomamos una acción siguiendo la política establecida\n",
        "    action = epsilon_greedy_policy(state, epsilon)\n",
        "    # Guardamos los datos obtenidos tras tomar esa accion\n",
        "    next_state, reward, done, info = env.step(action)\n",
        "    # Añadimos la lista a la memoria\n",
        "    replay_memory.append((state, action, reward, next_state, done))\n",
        "    return next_state, reward, done, info"
      ],
      "metadata": {
        "id": "8aoz0cEvXaMx"
      },
      "execution_count": 20,
      "outputs": []
    },
    {
      "cell_type": "code",
      "source": [
        "batch_size = 32\n",
        "discount_rate = 0.95\n",
        "\n",
        "def training_step(batch_size):\n",
        "    # Sacamos las experiencias del conjunto aleatorio de batch de tamaño \n",
        "    # de batch size.\n",
        "    experiences = sample_experiences(batch_size)\n",
        "    states, actions, rewards, next_states, dones = experiences\n",
        "    # Sacamos los proximos Q-valores con los proximos estados obtenidos \n",
        "    # al tomar la acción\n",
        "    next_Q_values = model.predict(next_states)\n",
        "    # Sacamos el valor maximo de los Q-valores\n",
        "    max_next_Q_values = np.max(next_Q_values, axis=1)\n",
        "    # Aplicamos la formula y modificamos la estructura\n",
        "    target_Q_values = (rewards +\n",
        "                       (1 - dones) * discount_rate * max_next_Q_values)\n",
        "    target_Q_values = target_Q_values.reshape(-1, 1)\n",
        "    # Devolvemos un tensor que sera mask\n",
        "    mask = tf.one_hot(actions, n_outputs)\n",
        "\n",
        "\n",
        "\n",
        "    \n",
        "    # No se que hace....\n",
        "    with tf.GradientTape() as tape:\n",
        "        all_Q_values = model(states)\n",
        "        Q_values = tf.reduce_sum(all_Q_values * mask, axis=1, keepdims=True)\n",
        "        loss = tf.reduce_mean(loss_fn(target_Q_values, Q_values))\n",
        "    grads = tape.gradient(loss, model.trainable_variables)\n",
        "    optimizer.apply_gradients(zip(grads, model.trainable_variables))"
      ],
      "metadata": {
        "id": "xtw9ZcLsXb4Q"
      },
      "execution_count": 21,
      "outputs": []
    },
    {
      "cell_type": "code",
      "source": [
        "env.seed(41)\n",
        "np.random.seed(41)\n",
        "tf.random.set_seed(41)"
      ],
      "metadata": {
        "id": "AraJV5iuXfq8"
      },
      "execution_count": 22,
      "outputs": []
    },
    {
      "cell_type": "code",
      "source": [
        "# Generamos un par de listas para guardar datos y asignamos la mejor\n",
        "# puntuación inicial como 0\n",
        "best_score = 0\n",
        "rewards = []\n",
        "best_weights = []\n",
        "\n",
        "# Iteramos por episodios y dentro de el por pasos\n",
        "for episode in range(500):\n",
        "    episode_rewards = 0\n",
        "    obs = env.reset()    \n",
        "    for step in range(5000):\n",
        "        # Actualizamos el valor de epsilon en función del episodio\n",
        "        epsilon = max(1 - episode / 650, 0.01)\n",
        "        # Sacamos los datos tras el primer paso\n",
        "        obs, reward, done, info = play_one_step(env, obs, epsilon)\n",
        "        # Actualizamos el valor de recompensas del episodio\n",
        "        episode_rewards += reward   \n",
        "        # En caso de llegar a estado terminal paramos\n",
        "        if done:\n",
        "            break\n",
        "    # Añadimos la recompensa del episodio a la lista de recompensas\n",
        "    rewards.append(episode_rewards) \n",
        "    # En caso de mejorar los mejores resultados asignamos los pesos y el score\n",
        "    # conseguido\n",
        "    if episode_rewards > best_score: \n",
        "        best_weights = model.get_weights() \n",
        "        best_score = episode_rewards \n",
        "    # Printeamos los resultados obtenidos en el episodio\n",
        "    print(\"\\rEpisode: {}, Episode_Rewards: {}, eps: {:.3f}, best_score: {}\".format(episode, episode_rewards, epsilon, best_score)) \n",
        "    # En caso de llevar mas de 50 episodios realizamos ....\n",
        "    if episode > 50:\n",
        "        training_step(batch_size)\n",
        "\n",
        "# Establecemos como pesos del modelo los mejores pesos\n",
        "model.set_weights(best_weights)"
      ],
      "metadata": {
        "colab": {
          "base_uri": "https://localhost:8080/",
          "height": 1000
        },
        "id": "NwPEn69RXhc_",
        "outputId": "dd2161e6-cc61-469b-806e-c22172fc9b96"
      },
      "execution_count": 23,
      "outputs": [
        {
          "output_type": "stream",
          "name": "stdout",
          "text": [
            "Episode: 0, Episode_Rewards: 0.0, eps: 1.000, best_score: 0\n",
            "Episode: 1, Episode_Rewards: 1.0, eps: 0.998, best_score: 1.0\n",
            "Episode: 2, Episode_Rewards: 0.0, eps: 0.996, best_score: 1.0\n",
            "Episode: 3, Episode_Rewards: 5.0, eps: 0.994, best_score: 5.0\n",
            "Episode: 4, Episode_Rewards: 2.0, eps: 0.992, best_score: 5.0\n",
            "Episode: 5, Episode_Rewards: 2.0, eps: 0.990, best_score: 5.0\n",
            "Episode: 6, Episode_Rewards: 0.0, eps: 0.988, best_score: 5.0\n",
            "Episode: 7, Episode_Rewards: 2.0, eps: 0.986, best_score: 5.0\n",
            "Episode: 8, Episode_Rewards: 0.0, eps: 0.984, best_score: 5.0\n",
            "Episode: 9, Episode_Rewards: 0.0, eps: 0.982, best_score: 5.0\n",
            "Episode: 10, Episode_Rewards: 1.0, eps: 0.980, best_score: 5.0\n",
            "Episode: 11, Episode_Rewards: 3.0, eps: 0.978, best_score: 5.0\n",
            "Episode: 12, Episode_Rewards: 1.0, eps: 0.976, best_score: 5.0\n",
            "Episode: 13, Episode_Rewards: 1.0, eps: 0.974, best_score: 5.0\n",
            "Episode: 14, Episode_Rewards: 2.0, eps: 0.972, best_score: 5.0\n",
            "Episode: 15, Episode_Rewards: 1.0, eps: 0.970, best_score: 5.0\n",
            "Episode: 16, Episode_Rewards: 0.0, eps: 0.968, best_score: 5.0\n",
            "Episode: 17, Episode_Rewards: 3.0, eps: 0.966, best_score: 5.0\n",
            "Episode: 18, Episode_Rewards: 0.0, eps: 0.964, best_score: 5.0\n",
            "Episode: 19, Episode_Rewards: 1.0, eps: 0.962, best_score: 5.0\n",
            "Episode: 20, Episode_Rewards: 0.0, eps: 0.960, best_score: 5.0\n",
            "Episode: 21, Episode_Rewards: 4.0, eps: 0.958, best_score: 5.0\n",
            "Episode: 22, Episode_Rewards: 3.0, eps: 0.956, best_score: 5.0\n",
            "Episode: 23, Episode_Rewards: 1.0, eps: 0.954, best_score: 5.0\n",
            "Episode: 24, Episode_Rewards: 0.0, eps: 0.952, best_score: 5.0\n",
            "Episode: 25, Episode_Rewards: 0.0, eps: 0.950, best_score: 5.0\n",
            "Episode: 26, Episode_Rewards: 2.0, eps: 0.948, best_score: 5.0\n",
            "Episode: 27, Episode_Rewards: 0.0, eps: 0.946, best_score: 5.0\n",
            "Episode: 28, Episode_Rewards: 2.0, eps: 0.944, best_score: 5.0\n",
            "Episode: 29, Episode_Rewards: 1.0, eps: 0.942, best_score: 5.0\n",
            "Episode: 30, Episode_Rewards: 2.0, eps: 0.940, best_score: 5.0\n",
            "Episode: 31, Episode_Rewards: 1.0, eps: 0.938, best_score: 5.0\n",
            "Episode: 32, Episode_Rewards: 0.0, eps: 0.936, best_score: 5.0\n",
            "Episode: 33, Episode_Rewards: 3.0, eps: 0.934, best_score: 5.0\n",
            "Episode: 34, Episode_Rewards: 1.0, eps: 0.932, best_score: 5.0\n",
            "Episode: 35, Episode_Rewards: 0.0, eps: 0.930, best_score: 5.0\n",
            "Episode: 36, Episode_Rewards: 1.0, eps: 0.928, best_score: 5.0\n",
            "Episode: 37, Episode_Rewards: 0.0, eps: 0.926, best_score: 5.0\n",
            "Episode: 38, Episode_Rewards: 4.0, eps: 0.924, best_score: 5.0\n",
            "Episode: 39, Episode_Rewards: 2.0, eps: 0.922, best_score: 5.0\n",
            "Episode: 40, Episode_Rewards: 3.0, eps: 0.920, best_score: 5.0\n",
            "Episode: 41, Episode_Rewards: 4.0, eps: 0.918, best_score: 5.0\n",
            "Episode: 42, Episode_Rewards: 3.0, eps: 0.916, best_score: 5.0\n",
            "Episode: 43, Episode_Rewards: 0.0, eps: 0.914, best_score: 5.0\n",
            "Episode: 44, Episode_Rewards: 1.0, eps: 0.912, best_score: 5.0\n",
            "Episode: 45, Episode_Rewards: 1.0, eps: 0.910, best_score: 5.0\n",
            "Episode: 46, Episode_Rewards: 3.0, eps: 0.908, best_score: 5.0\n",
            "Episode: 47, Episode_Rewards: 2.0, eps: 0.906, best_score: 5.0\n",
            "Episode: 48, Episode_Rewards: 0.0, eps: 0.904, best_score: 5.0\n",
            "Episode: 49, Episode_Rewards: 3.0, eps: 0.902, best_score: 5.0\n",
            "Episode: 50, Episode_Rewards: 0.0, eps: 0.900, best_score: 5.0\n",
            "Episode: 51, Episode_Rewards: 1.0, eps: 0.898, best_score: 5.0\n",
            "Episode: 52, Episode_Rewards: 0.0, eps: 0.896, best_score: 5.0\n",
            "Episode: 53, Episode_Rewards: 2.0, eps: 0.894, best_score: 5.0\n",
            "Episode: 54, Episode_Rewards: 1.0, eps: 0.892, best_score: 5.0\n",
            "Episode: 55, Episode_Rewards: 2.0, eps: 0.890, best_score: 5.0\n",
            "Episode: 56, Episode_Rewards: 0.0, eps: 0.888, best_score: 5.0\n",
            "Episode: 57, Episode_Rewards: 0.0, eps: 0.886, best_score: 5.0\n",
            "Episode: 58, Episode_Rewards: 0.0, eps: 0.884, best_score: 5.0\n",
            "Episode: 59, Episode_Rewards: 4.0, eps: 0.882, best_score: 5.0\n",
            "Episode: 60, Episode_Rewards: 0.0, eps: 0.880, best_score: 5.0\n",
            "Episode: 61, Episode_Rewards: 0.0, eps: 0.878, best_score: 5.0\n",
            "Episode: 62, Episode_Rewards: 1.0, eps: 0.876, best_score: 5.0\n",
            "Episode: 63, Episode_Rewards: 5.0, eps: 0.874, best_score: 5.0\n",
            "Episode: 64, Episode_Rewards: 0.0, eps: 0.872, best_score: 5.0\n",
            "Episode: 65, Episode_Rewards: 3.0, eps: 0.870, best_score: 5.0\n",
            "Episode: 66, Episode_Rewards: 1.0, eps: 0.868, best_score: 5.0\n",
            "Episode: 67, Episode_Rewards: 3.0, eps: 0.866, best_score: 5.0\n",
            "Episode: 68, Episode_Rewards: 2.0, eps: 0.864, best_score: 5.0\n",
            "Episode: 69, Episode_Rewards: 0.0, eps: 0.862, best_score: 5.0\n",
            "Episode: 70, Episode_Rewards: 1.0, eps: 0.860, best_score: 5.0\n",
            "Episode: 71, Episode_Rewards: 3.0, eps: 0.858, best_score: 5.0\n",
            "Episode: 72, Episode_Rewards: 0.0, eps: 0.856, best_score: 5.0\n",
            "Episode: 73, Episode_Rewards: 2.0, eps: 0.854, best_score: 5.0\n",
            "Episode: 74, Episode_Rewards: 0.0, eps: 0.852, best_score: 5.0\n",
            "Episode: 75, Episode_Rewards: 1.0, eps: 0.850, best_score: 5.0\n",
            "Episode: 76, Episode_Rewards: 1.0, eps: 0.848, best_score: 5.0\n",
            "Episode: 77, Episode_Rewards: 0.0, eps: 0.846, best_score: 5.0\n",
            "Episode: 78, Episode_Rewards: 0.0, eps: 0.844, best_score: 5.0\n",
            "Episode: 79, Episode_Rewards: 0.0, eps: 0.842, best_score: 5.0\n",
            "Episode: 80, Episode_Rewards: 0.0, eps: 0.840, best_score: 5.0\n",
            "Episode: 81, Episode_Rewards: 0.0, eps: 0.838, best_score: 5.0\n",
            "Episode: 82, Episode_Rewards: 2.0, eps: 0.836, best_score: 5.0\n",
            "Episode: 83, Episode_Rewards: 4.0, eps: 0.834, best_score: 5.0\n",
            "Episode: 84, Episode_Rewards: 1.0, eps: 0.832, best_score: 5.0\n",
            "Episode: 85, Episode_Rewards: 2.0, eps: 0.830, best_score: 5.0\n",
            "Episode: 86, Episode_Rewards: 1.0, eps: 0.828, best_score: 5.0\n",
            "Episode: 87, Episode_Rewards: 0.0, eps: 0.826, best_score: 5.0\n",
            "Episode: 88, Episode_Rewards: 3.0, eps: 0.824, best_score: 5.0\n",
            "Episode: 89, Episode_Rewards: 0.0, eps: 0.822, best_score: 5.0\n",
            "Episode: 90, Episode_Rewards: 1.0, eps: 0.820, best_score: 5.0\n",
            "Episode: 91, Episode_Rewards: 3.0, eps: 0.818, best_score: 5.0\n",
            "Episode: 92, Episode_Rewards: 3.0, eps: 0.816, best_score: 5.0\n",
            "Episode: 93, Episode_Rewards: 5.0, eps: 0.814, best_score: 5.0\n",
            "Episode: 94, Episode_Rewards: 3.0, eps: 0.812, best_score: 5.0\n",
            "Episode: 95, Episode_Rewards: 0.0, eps: 0.810, best_score: 5.0\n",
            "Episode: 96, Episode_Rewards: 0.0, eps: 0.808, best_score: 5.0\n",
            "Episode: 97, Episode_Rewards: 0.0, eps: 0.806, best_score: 5.0\n",
            "Episode: 98, Episode_Rewards: 5.0, eps: 0.804, best_score: 5.0\n",
            "Episode: 99, Episode_Rewards: 1.0, eps: 0.802, best_score: 5.0\n",
            "Episode: 100, Episode_Rewards: 0.0, eps: 0.800, best_score: 5.0\n",
            "Episode: 101, Episode_Rewards: 0.0, eps: 0.798, best_score: 5.0\n",
            "Episode: 102, Episode_Rewards: 0.0, eps: 0.796, best_score: 5.0\n",
            "Episode: 103, Episode_Rewards: 0.0, eps: 0.794, best_score: 5.0\n",
            "Episode: 104, Episode_Rewards: 2.0, eps: 0.792, best_score: 5.0\n",
            "Episode: 105, Episode_Rewards: 1.0, eps: 0.790, best_score: 5.0\n",
            "Episode: 106, Episode_Rewards: 0.0, eps: 0.788, best_score: 5.0\n",
            "Episode: 107, Episode_Rewards: 2.0, eps: 0.786, best_score: 5.0\n",
            "Episode: 108, Episode_Rewards: 2.0, eps: 0.784, best_score: 5.0\n",
            "Episode: 109, Episode_Rewards: 1.0, eps: 0.782, best_score: 5.0\n",
            "Episode: 110, Episode_Rewards: 1.0, eps: 0.780, best_score: 5.0\n",
            "Episode: 111, Episode_Rewards: 3.0, eps: 0.778, best_score: 5.0\n",
            "Episode: 112, Episode_Rewards: 1.0, eps: 0.776, best_score: 5.0\n",
            "Episode: 113, Episode_Rewards: 3.0, eps: 0.774, best_score: 5.0\n",
            "Episode: 114, Episode_Rewards: 1.0, eps: 0.772, best_score: 5.0\n",
            "Episode: 115, Episode_Rewards: 0.0, eps: 0.770, best_score: 5.0\n",
            "Episode: 116, Episode_Rewards: 0.0, eps: 0.768, best_score: 5.0\n",
            "Episode: 117, Episode_Rewards: 1.0, eps: 0.766, best_score: 5.0\n",
            "Episode: 118, Episode_Rewards: 1.0, eps: 0.764, best_score: 5.0\n",
            "Episode: 119, Episode_Rewards: 1.0, eps: 0.762, best_score: 5.0\n",
            "Episode: 120, Episode_Rewards: 2.0, eps: 0.760, best_score: 5.0\n",
            "Episode: 121, Episode_Rewards: 3.0, eps: 0.758, best_score: 5.0\n",
            "Episode: 122, Episode_Rewards: 0.0, eps: 0.756, best_score: 5.0\n",
            "Episode: 123, Episode_Rewards: 2.0, eps: 0.754, best_score: 5.0\n",
            "Episode: 124, Episode_Rewards: 2.0, eps: 0.752, best_score: 5.0\n",
            "Episode: 125, Episode_Rewards: 1.0, eps: 0.750, best_score: 5.0\n",
            "Episode: 126, Episode_Rewards: 3.0, eps: 0.748, best_score: 5.0\n",
            "Episode: 127, Episode_Rewards: 2.0, eps: 0.746, best_score: 5.0\n",
            "Episode: 128, Episode_Rewards: 1.0, eps: 0.744, best_score: 5.0\n",
            "Episode: 129, Episode_Rewards: 1.0, eps: 0.742, best_score: 5.0\n",
            "Episode: 130, Episode_Rewards: 1.0, eps: 0.740, best_score: 5.0\n",
            "Episode: 131, Episode_Rewards: 4.0, eps: 0.738, best_score: 5.0\n",
            "Episode: 132, Episode_Rewards: 2.0, eps: 0.736, best_score: 5.0\n",
            "Episode: 133, Episode_Rewards: 1.0, eps: 0.734, best_score: 5.0\n",
            "Episode: 134, Episode_Rewards: 0.0, eps: 0.732, best_score: 5.0\n",
            "Episode: 135, Episode_Rewards: 3.0, eps: 0.730, best_score: 5.0\n",
            "Episode: 136, Episode_Rewards: 2.0, eps: 0.728, best_score: 5.0\n",
            "Episode: 137, Episode_Rewards: 1.0, eps: 0.726, best_score: 5.0\n",
            "Episode: 138, Episode_Rewards: 1.0, eps: 0.724, best_score: 5.0\n",
            "Episode: 139, Episode_Rewards: 1.0, eps: 0.722, best_score: 5.0\n",
            "Episode: 140, Episode_Rewards: 1.0, eps: 0.720, best_score: 5.0\n",
            "Episode: 141, Episode_Rewards: 0.0, eps: 0.718, best_score: 5.0\n",
            "Episode: 142, Episode_Rewards: 3.0, eps: 0.716, best_score: 5.0\n",
            "Episode: 143, Episode_Rewards: 0.0, eps: 0.714, best_score: 5.0\n",
            "Episode: 144, Episode_Rewards: 0.0, eps: 0.712, best_score: 5.0\n",
            "Episode: 145, Episode_Rewards: 1.0, eps: 0.710, best_score: 5.0\n",
            "Episode: 146, Episode_Rewards: 0.0, eps: 0.708, best_score: 5.0\n",
            "Episode: 147, Episode_Rewards: 1.0, eps: 0.706, best_score: 5.0\n",
            "Episode: 148, Episode_Rewards: 0.0, eps: 0.704, best_score: 5.0\n",
            "Episode: 149, Episode_Rewards: 3.0, eps: 0.702, best_score: 5.0\n",
            "Episode: 150, Episode_Rewards: 1.0, eps: 0.700, best_score: 5.0\n",
            "Episode: 151, Episode_Rewards: 0.0, eps: 0.698, best_score: 5.0\n",
            "Episode: 152, Episode_Rewards: 2.0, eps: 0.696, best_score: 5.0\n",
            "Episode: 153, Episode_Rewards: 0.0, eps: 0.694, best_score: 5.0\n",
            "Episode: 154, Episode_Rewards: 0.0, eps: 0.692, best_score: 5.0\n",
            "Episode: 155, Episode_Rewards: 0.0, eps: 0.690, best_score: 5.0\n",
            "Episode: 156, Episode_Rewards: 1.0, eps: 0.688, best_score: 5.0\n",
            "Episode: 157, Episode_Rewards: 1.0, eps: 0.686, best_score: 5.0\n",
            "Episode: 158, Episode_Rewards: 1.0, eps: 0.684, best_score: 5.0\n",
            "Episode: 159, Episode_Rewards: 0.0, eps: 0.682, best_score: 5.0\n",
            "Episode: 160, Episode_Rewards: 2.0, eps: 0.680, best_score: 5.0\n",
            "Episode: 161, Episode_Rewards: 4.0, eps: 0.678, best_score: 5.0\n",
            "Episode: 162, Episode_Rewards: 1.0, eps: 0.676, best_score: 5.0\n",
            "Episode: 163, Episode_Rewards: 2.0, eps: 0.674, best_score: 5.0\n",
            "Episode: 164, Episode_Rewards: 3.0, eps: 0.672, best_score: 5.0\n",
            "Episode: 165, Episode_Rewards: 1.0, eps: 0.670, best_score: 5.0\n",
            "Episode: 166, Episode_Rewards: 1.0, eps: 0.668, best_score: 5.0\n",
            "Episode: 167, Episode_Rewards: 0.0, eps: 0.666, best_score: 5.0\n",
            "Episode: 168, Episode_Rewards: 2.0, eps: 0.664, best_score: 5.0\n",
            "Episode: 169, Episode_Rewards: 0.0, eps: 0.662, best_score: 5.0\n",
            "Episode: 170, Episode_Rewards: 1.0, eps: 0.660, best_score: 5.0\n",
            "Episode: 171, Episode_Rewards: 2.0, eps: 0.658, best_score: 5.0\n",
            "Episode: 172, Episode_Rewards: 0.0, eps: 0.656, best_score: 5.0\n",
            "Episode: 173, Episode_Rewards: 2.0, eps: 0.654, best_score: 5.0\n",
            "Episode: 174, Episode_Rewards: 0.0, eps: 0.652, best_score: 5.0\n",
            "Episode: 175, Episode_Rewards: 3.0, eps: 0.650, best_score: 5.0\n",
            "Episode: 176, Episode_Rewards: 1.0, eps: 0.648, best_score: 5.0\n",
            "Episode: 177, Episode_Rewards: 0.0, eps: 0.646, best_score: 5.0\n",
            "Episode: 178, Episode_Rewards: 4.0, eps: 0.644, best_score: 5.0\n",
            "Episode: 179, Episode_Rewards: 3.0, eps: 0.642, best_score: 5.0\n",
            "Episode: 180, Episode_Rewards: 2.0, eps: 0.640, best_score: 5.0\n",
            "Episode: 181, Episode_Rewards: 1.0, eps: 0.638, best_score: 5.0\n",
            "Episode: 182, Episode_Rewards: 0.0, eps: 0.636, best_score: 5.0\n",
            "Episode: 183, Episode_Rewards: 1.0, eps: 0.634, best_score: 5.0\n",
            "Episode: 184, Episode_Rewards: 1.0, eps: 0.632, best_score: 5.0\n",
            "Episode: 185, Episode_Rewards: 1.0, eps: 0.630, best_score: 5.0\n",
            "Episode: 186, Episode_Rewards: 3.0, eps: 0.628, best_score: 5.0\n",
            "Episode: 187, Episode_Rewards: 1.0, eps: 0.626, best_score: 5.0\n",
            "Episode: 188, Episode_Rewards: 0.0, eps: 0.624, best_score: 5.0\n",
            "Episode: 189, Episode_Rewards: 1.0, eps: 0.622, best_score: 5.0\n",
            "Episode: 190, Episode_Rewards: 2.0, eps: 0.620, best_score: 5.0\n",
            "Episode: 191, Episode_Rewards: 0.0, eps: 0.618, best_score: 5.0\n",
            "Episode: 192, Episode_Rewards: 1.0, eps: 0.616, best_score: 5.0\n",
            "Episode: 193, Episode_Rewards: 0.0, eps: 0.614, best_score: 5.0\n",
            "Episode: 194, Episode_Rewards: 1.0, eps: 0.612, best_score: 5.0\n",
            "Episode: 195, Episode_Rewards: 1.0, eps: 0.610, best_score: 5.0\n",
            "Episode: 196, Episode_Rewards: 0.0, eps: 0.608, best_score: 5.0\n",
            "Episode: 197, Episode_Rewards: 0.0, eps: 0.606, best_score: 5.0\n",
            "Episode: 198, Episode_Rewards: 0.0, eps: 0.604, best_score: 5.0\n",
            "Episode: 199, Episode_Rewards: 1.0, eps: 0.602, best_score: 5.0\n",
            "Episode: 200, Episode_Rewards: 2.0, eps: 0.600, best_score: 5.0\n",
            "Episode: 201, Episode_Rewards: 2.0, eps: 0.598, best_score: 5.0\n",
            "Episode: 202, Episode_Rewards: 1.0, eps: 0.596, best_score: 5.0\n",
            "Episode: 203, Episode_Rewards: 1.0, eps: 0.594, best_score: 5.0\n",
            "Episode: 204, Episode_Rewards: 6.0, eps: 0.592, best_score: 6.0\n",
            "Episode: 205, Episode_Rewards: 0.0, eps: 0.590, best_score: 6.0\n",
            "Episode: 206, Episode_Rewards: 0.0, eps: 0.588, best_score: 6.0\n",
            "Episode: 207, Episode_Rewards: 0.0, eps: 0.586, best_score: 6.0\n",
            "Episode: 208, Episode_Rewards: 1.0, eps: 0.584, best_score: 6.0\n",
            "Episode: 209, Episode_Rewards: 1.0, eps: 0.582, best_score: 6.0\n",
            "Episode: 210, Episode_Rewards: 1.0, eps: 0.580, best_score: 6.0\n",
            "Episode: 211, Episode_Rewards: 2.0, eps: 0.578, best_score: 6.0\n",
            "Episode: 212, Episode_Rewards: 0.0, eps: 0.576, best_score: 6.0\n",
            "Episode: 213, Episode_Rewards: 0.0, eps: 0.574, best_score: 6.0\n",
            "Episode: 214, Episode_Rewards: 4.0, eps: 0.572, best_score: 6.0\n",
            "Episode: 215, Episode_Rewards: 1.0, eps: 0.570, best_score: 6.0\n",
            "Episode: 216, Episode_Rewards: 0.0, eps: 0.568, best_score: 6.0\n",
            "Episode: 217, Episode_Rewards: 0.0, eps: 0.566, best_score: 6.0\n",
            "Episode: 218, Episode_Rewards: 2.0, eps: 0.564, best_score: 6.0\n",
            "Episode: 219, Episode_Rewards: 2.0, eps: 0.562, best_score: 6.0\n",
            "Episode: 220, Episode_Rewards: 1.0, eps: 0.560, best_score: 6.0\n",
            "Episode: 221, Episode_Rewards: 1.0, eps: 0.558, best_score: 6.0\n",
            "Episode: 222, Episode_Rewards: 1.0, eps: 0.556, best_score: 6.0\n",
            "Episode: 223, Episode_Rewards: 0.0, eps: 0.554, best_score: 6.0\n",
            "Episode: 224, Episode_Rewards: 2.0, eps: 0.552, best_score: 6.0\n",
            "Episode: 225, Episode_Rewards: 1.0, eps: 0.550, best_score: 6.0\n",
            "Episode: 226, Episode_Rewards: 0.0, eps: 0.548, best_score: 6.0\n",
            "Episode: 227, Episode_Rewards: 3.0, eps: 0.546, best_score: 6.0\n",
            "Episode: 228, Episode_Rewards: 3.0, eps: 0.544, best_score: 6.0\n",
            "Episode: 229, Episode_Rewards: 1.0, eps: 0.542, best_score: 6.0\n",
            "Episode: 230, Episode_Rewards: 2.0, eps: 0.540, best_score: 6.0\n",
            "Episode: 231, Episode_Rewards: 0.0, eps: 0.538, best_score: 6.0\n",
            "Episode: 232, Episode_Rewards: 0.0, eps: 0.536, best_score: 6.0\n",
            "Episode: 233, Episode_Rewards: 1.0, eps: 0.534, best_score: 6.0\n",
            "Episode: 234, Episode_Rewards: 1.0, eps: 0.532, best_score: 6.0\n",
            "Episode: 235, Episode_Rewards: 0.0, eps: 0.530, best_score: 6.0\n",
            "Episode: 236, Episode_Rewards: 3.0, eps: 0.528, best_score: 6.0\n",
            "Episode: 237, Episode_Rewards: 2.0, eps: 0.526, best_score: 6.0\n",
            "Episode: 238, Episode_Rewards: 4.0, eps: 0.524, best_score: 6.0\n",
            "Episode: 239, Episode_Rewards: 2.0, eps: 0.522, best_score: 6.0\n",
            "Episode: 240, Episode_Rewards: 1.0, eps: 0.520, best_score: 6.0\n",
            "Episode: 241, Episode_Rewards: 2.0, eps: 0.518, best_score: 6.0\n",
            "Episode: 242, Episode_Rewards: 0.0, eps: 0.516, best_score: 6.0\n",
            "Episode: 243, Episode_Rewards: 0.0, eps: 0.514, best_score: 6.0\n",
            "Episode: 244, Episode_Rewards: 1.0, eps: 0.512, best_score: 6.0\n",
            "Episode: 245, Episode_Rewards: 0.0, eps: 0.510, best_score: 6.0\n",
            "Episode: 246, Episode_Rewards: 0.0, eps: 0.508, best_score: 6.0\n",
            "Episode: 247, Episode_Rewards: 0.0, eps: 0.506, best_score: 6.0\n",
            "Episode: 248, Episode_Rewards: 0.0, eps: 0.504, best_score: 6.0\n",
            "Episode: 249, Episode_Rewards: 0.0, eps: 0.502, best_score: 6.0\n",
            "Episode: 250, Episode_Rewards: 0.0, eps: 0.500, best_score: 6.0\n",
            "Episode: 251, Episode_Rewards: 0.0, eps: 0.498, best_score: 6.0\n",
            "Episode: 252, Episode_Rewards: 0.0, eps: 0.496, best_score: 6.0\n",
            "Episode: 253, Episode_Rewards: 0.0, eps: 0.494, best_score: 6.0\n",
            "Episode: 254, Episode_Rewards: 2.0, eps: 0.492, best_score: 6.0\n",
            "Episode: 255, Episode_Rewards: 0.0, eps: 0.490, best_score: 6.0\n",
            "Episode: 256, Episode_Rewards: 3.0, eps: 0.488, best_score: 6.0\n",
            "Episode: 257, Episode_Rewards: 2.0, eps: 0.486, best_score: 6.0\n",
            "Episode: 258, Episode_Rewards: 3.0, eps: 0.484, best_score: 6.0\n",
            "Episode: 259, Episode_Rewards: 2.0, eps: 0.482, best_score: 6.0\n",
            "Episode: 260, Episode_Rewards: 0.0, eps: 0.480, best_score: 6.0\n",
            "Episode: 261, Episode_Rewards: 4.0, eps: 0.478, best_score: 6.0\n",
            "Episode: 262, Episode_Rewards: 1.0, eps: 0.476, best_score: 6.0\n",
            "Episode: 263, Episode_Rewards: 0.0, eps: 0.474, best_score: 6.0\n",
            "Episode: 264, Episode_Rewards: 1.0, eps: 0.472, best_score: 6.0\n",
            "Episode: 265, Episode_Rewards: 0.0, eps: 0.470, best_score: 6.0\n",
            "Episode: 266, Episode_Rewards: 2.0, eps: 0.468, best_score: 6.0\n",
            "Episode: 267, Episode_Rewards: 0.0, eps: 0.466, best_score: 6.0\n",
            "Episode: 268, Episode_Rewards: 1.0, eps: 0.464, best_score: 6.0\n",
            "Episode: 269, Episode_Rewards: 0.0, eps: 0.462, best_score: 6.0\n",
            "Episode: 270, Episode_Rewards: 2.0, eps: 0.460, best_score: 6.0\n",
            "Episode: 271, Episode_Rewards: 0.0, eps: 0.458, best_score: 6.0\n",
            "Episode: 272, Episode_Rewards: 2.0, eps: 0.456, best_score: 6.0\n",
            "Episode: 273, Episode_Rewards: 3.0, eps: 0.454, best_score: 6.0\n",
            "Episode: 274, Episode_Rewards: 2.0, eps: 0.452, best_score: 6.0\n",
            "Episode: 275, Episode_Rewards: 2.0, eps: 0.450, best_score: 6.0\n",
            "Episode: 276, Episode_Rewards: 2.0, eps: 0.448, best_score: 6.0\n",
            "Episode: 277, Episode_Rewards: 0.0, eps: 0.446, best_score: 6.0\n",
            "Episode: 278, Episode_Rewards: 1.0, eps: 0.444, best_score: 6.0\n",
            "Episode: 279, Episode_Rewards: 2.0, eps: 0.442, best_score: 6.0\n",
            "Episode: 280, Episode_Rewards: 0.0, eps: 0.440, best_score: 6.0\n",
            "Episode: 281, Episode_Rewards: 2.0, eps: 0.438, best_score: 6.0\n",
            "Episode: 282, Episode_Rewards: 0.0, eps: 0.436, best_score: 6.0\n",
            "Episode: 283, Episode_Rewards: 0.0, eps: 0.434, best_score: 6.0\n",
            "Episode: 284, Episode_Rewards: 2.0, eps: 0.432, best_score: 6.0\n",
            "Episode: 285, Episode_Rewards: 2.0, eps: 0.430, best_score: 6.0\n",
            "Episode: 286, Episode_Rewards: 1.0, eps: 0.428, best_score: 6.0\n",
            "Episode: 287, Episode_Rewards: 1.0, eps: 0.426, best_score: 6.0\n",
            "Episode: 288, Episode_Rewards: 2.0, eps: 0.424, best_score: 6.0\n",
            "Episode: 289, Episode_Rewards: 0.0, eps: 0.422, best_score: 6.0\n",
            "Episode: 290, Episode_Rewards: 3.0, eps: 0.420, best_score: 6.0\n",
            "Episode: 291, Episode_Rewards: 0.0, eps: 0.418, best_score: 6.0\n",
            "Episode: 292, Episode_Rewards: 0.0, eps: 0.416, best_score: 6.0\n",
            "Episode: 293, Episode_Rewards: 2.0, eps: 0.414, best_score: 6.0\n",
            "Episode: 294, Episode_Rewards: 3.0, eps: 0.412, best_score: 6.0\n",
            "Episode: 295, Episode_Rewards: 0.0, eps: 0.410, best_score: 6.0\n",
            "Episode: 296, Episode_Rewards: 3.0, eps: 0.408, best_score: 6.0\n",
            "Episode: 297, Episode_Rewards: 2.0, eps: 0.406, best_score: 6.0\n",
            "Episode: 298, Episode_Rewards: 1.0, eps: 0.404, best_score: 6.0\n",
            "Episode: 299, Episode_Rewards: 1.0, eps: 0.402, best_score: 6.0\n",
            "Episode: 300, Episode_Rewards: 0.0, eps: 0.400, best_score: 6.0\n",
            "Episode: 301, Episode_Rewards: 1.0, eps: 0.398, best_score: 6.0\n",
            "Episode: 302, Episode_Rewards: 0.0, eps: 0.396, best_score: 6.0\n",
            "Episode: 303, Episode_Rewards: 3.0, eps: 0.394, best_score: 6.0\n",
            "Episode: 304, Episode_Rewards: 0.0, eps: 0.392, best_score: 6.0\n",
            "Episode: 305, Episode_Rewards: 0.0, eps: 0.390, best_score: 6.0\n",
            "Episode: 306, Episode_Rewards: 0.0, eps: 0.388, best_score: 6.0\n",
            "Episode: 307, Episode_Rewards: 0.0, eps: 0.386, best_score: 6.0\n",
            "Episode: 308, Episode_Rewards: 2.0, eps: 0.384, best_score: 6.0\n",
            "Episode: 309, Episode_Rewards: 2.0, eps: 0.382, best_score: 6.0\n",
            "Episode: 310, Episode_Rewards: 4.0, eps: 0.380, best_score: 6.0\n",
            "Episode: 311, Episode_Rewards: 0.0, eps: 0.378, best_score: 6.0\n",
            "Episode: 312, Episode_Rewards: 2.0, eps: 0.376, best_score: 6.0\n",
            "Episode: 313, Episode_Rewards: 2.0, eps: 0.374, best_score: 6.0\n",
            "Episode: 314, Episode_Rewards: 0.0, eps: 0.372, best_score: 6.0\n",
            "Episode: 315, Episode_Rewards: 1.0, eps: 0.370, best_score: 6.0\n",
            "Episode: 316, Episode_Rewards: 2.0, eps: 0.368, best_score: 6.0\n",
            "Episode: 317, Episode_Rewards: 2.0, eps: 0.366, best_score: 6.0\n",
            "Episode: 318, Episode_Rewards: 2.0, eps: 0.364, best_score: 6.0\n",
            "Episode: 319, Episode_Rewards: 0.0, eps: 0.362, best_score: 6.0\n",
            "Episode: 320, Episode_Rewards: 4.0, eps: 0.360, best_score: 6.0\n",
            "Episode: 321, Episode_Rewards: 1.0, eps: 0.358, best_score: 6.0\n",
            "Episode: 322, Episode_Rewards: 0.0, eps: 0.356, best_score: 6.0\n",
            "Episode: 323, Episode_Rewards: 0.0, eps: 0.354, best_score: 6.0\n",
            "Episode: 324, Episode_Rewards: 1.0, eps: 0.352, best_score: 6.0\n",
            "Episode: 325, Episode_Rewards: 2.0, eps: 0.350, best_score: 6.0\n",
            "Episode: 326, Episode_Rewards: 0.0, eps: 0.348, best_score: 6.0\n",
            "Episode: 327, Episode_Rewards: 0.0, eps: 0.346, best_score: 6.0\n",
            "Episode: 328, Episode_Rewards: 1.0, eps: 0.344, best_score: 6.0\n",
            "Episode: 329, Episode_Rewards: 0.0, eps: 0.342, best_score: 6.0\n",
            "Episode: 330, Episode_Rewards: 2.0, eps: 0.340, best_score: 6.0\n",
            "Episode: 331, Episode_Rewards: 0.0, eps: 0.338, best_score: 6.0\n",
            "Episode: 332, Episode_Rewards: 2.0, eps: 0.336, best_score: 6.0\n",
            "Episode: 333, Episode_Rewards: 1.0, eps: 0.334, best_score: 6.0\n",
            "Episode: 334, Episode_Rewards: 1.0, eps: 0.332, best_score: 6.0\n",
            "Episode: 335, Episode_Rewards: 2.0, eps: 0.330, best_score: 6.0\n",
            "Episode: 336, Episode_Rewards: 0.0, eps: 0.328, best_score: 6.0\n",
            "Episode: 337, Episode_Rewards: 0.0, eps: 0.326, best_score: 6.0\n",
            "Episode: 338, Episode_Rewards: 0.0, eps: 0.324, best_score: 6.0\n",
            "Episode: 339, Episode_Rewards: 3.0, eps: 0.322, best_score: 6.0\n",
            "Episode: 340, Episode_Rewards: 0.0, eps: 0.320, best_score: 6.0\n",
            "Episode: 341, Episode_Rewards: 1.0, eps: 0.318, best_score: 6.0\n",
            "Episode: 342, Episode_Rewards: 0.0, eps: 0.316, best_score: 6.0\n",
            "Episode: 343, Episode_Rewards: 1.0, eps: 0.314, best_score: 6.0\n",
            "Episode: 344, Episode_Rewards: 2.0, eps: 0.312, best_score: 6.0\n",
            "Episode: 345, Episode_Rewards: 1.0, eps: 0.310, best_score: 6.0\n"
          ]
        },
        {
          "output_type": "stream",
          "name": "stderr",
          "text": [
            "ERROR:root:Internal Python error in the inspect module.\n",
            "Below is the traceback from this internal error.\n",
            "\n"
          ]
        },
        {
          "output_type": "stream",
          "name": "stdout",
          "text": [
            "Traceback (most recent call last):\n",
            "  File \"/usr/local/lib/python3.7/dist-packages/IPython/core/interactiveshell.py\", line 2882, in run_code\n",
            "    exec(code_obj, self.user_global_ns, self.user_ns)\n",
            "  File \"<ipython-input-23-1b6c3b90c283>\", line 15, in <module>\n",
            "    obs, reward, done, info = play_one_step(env, obs, epsilon)\n",
            "  File \"<ipython-input-20-a83f063b87c9>\", line 3, in play_one_step\n",
            "    action = epsilon_greedy_policy(state, epsilon)\n",
            "  File \"<ipython-input-17-df2028d37b13>\", line 6, in epsilon_greedy_policy\n",
            "    Q_values = model.predict(state[np.newaxis])\n",
            "  File \"/usr/local/lib/python3.7/dist-packages/keras/utils/traceback_utils.py\", line 64, in error_handler\n",
            "    return fn(*args, **kwargs)\n",
            "  File \"/usr/local/lib/python3.7/dist-packages/keras/engine/training.py\", line 1961, in predict\n",
            "    steps_per_execution=self._steps_per_execution)\n",
            "  File \"/usr/local/lib/python3.7/dist-packages/keras/engine/data_adapter.py\", line 1399, in get_data_handler\n",
            "    return DataHandler(*args, **kwargs)\n",
            "  File \"/usr/local/lib/python3.7/dist-packages/keras/engine/data_adapter.py\", line 1161, in __init__\n",
            "    model=model)\n",
            "  File \"/usr/local/lib/python3.7/dist-packages/keras/engine/data_adapter.py\", line 326, in __init__\n",
            "    indices_dataset = indices_dataset.flat_map(slice_batch_indices)\n",
            "  File \"/usr/local/lib/python3.7/dist-packages/tensorflow/python/data/ops/dataset_ops.py\", line 2060, in flat_map\n",
            "    return FlatMapDataset(self, map_func, name=name)\n",
            "  File \"/usr/local/lib/python3.7/dist-packages/tensorflow/python/data/ops/dataset_ops.py\", line 5280, in __init__\n",
            "    map_func, self._transformation_name(), dataset=input_dataset)\n",
            "  File \"/usr/local/lib/python3.7/dist-packages/tensorflow/python/data/ops/structured_function.py\", line 271, in __init__\n",
            "    self._function = fn_factory()\n",
            "  File \"/usr/local/lib/python3.7/dist-packages/tensorflow/python/eager/function.py\", line 3071, in get_concrete_function\n",
            "    *args, **kwargs)\n",
            "  File \"/usr/local/lib/python3.7/dist-packages/tensorflow/python/eager/function.py\", line 3036, in _get_concrete_function_garbage_collected\n",
            "    graph_function, _ = self._maybe_define_function(args, kwargs)\n",
            "  File \"/usr/local/lib/python3.7/dist-packages/tensorflow/python/eager/function.py\", line 3292, in _maybe_define_function\n",
            "    graph_function = self._create_graph_function(args, kwargs)\n",
            "  File \"/usr/local/lib/python3.7/dist-packages/tensorflow/python/eager/function.py\", line 3140, in _create_graph_function\n",
            "    capture_by_value=self._capture_by_value),\n",
            "  File \"/usr/local/lib/python3.7/dist-packages/tensorflow/python/framework/func_graph.py\", line 1161, in func_graph_from_py_func\n",
            "    func_outputs = python_func(*func_args, **func_kwargs)\n",
            "  File \"/usr/local/lib/python3.7/dist-packages/tensorflow/python/data/ops/structured_function.py\", line 248, in wrapped_fn\n",
            "    ret = wrapper_helper(*args)\n",
            "  File \"/usr/local/lib/python3.7/dist-packages/tensorflow/python/data/ops/structured_function.py\", line 177, in wrapper_helper\n",
            "    ret = autograph.tf_convert(self._func, ag_ctx)(*nested_args)\n",
            "  File \"/usr/local/lib/python3.7/dist-packages/tensorflow/python/autograph/impl/api.py\", line 689, in wrapper\n",
            "    return converted_call(f, args, kwargs, options=options)\n",
            "  File \"/usr/local/lib/python3.7/dist-packages/tensorflow/python/autograph/impl/api.py\", line 377, in converted_call\n",
            "    return _call_unconverted(f, args, kwargs, options)\n",
            "  File \"/usr/local/lib/python3.7/dist-packages/tensorflow/python/autograph/impl/api.py\", line 458, in _call_unconverted\n",
            "    return f(*args, **kwargs)\n",
            "  File \"/usr/local/lib/python3.7/dist-packages/keras/engine/data_adapter.py\", line 315, in slice_batch_indices\n",
            "    flat_dataset = tf.data.Dataset.from_tensor_slices(first_k_indices)\n",
            "  File \"/usr/local/lib/python3.7/dist-packages/tensorflow/python/data/ops/dataset_ops.py\", line 793, in from_tensor_slices\n",
            "    return TensorSliceDataset(tensors, name=name)\n",
            "  File \"/usr/local/lib/python3.7/dist-packages/tensorflow/python/data/ops/dataset_ops.py\", line 4478, in __init__\n",
            "    batched_spec = structure.type_spec_from_value(element)\n",
            "  File \"/usr/local/lib/python3.7/dist-packages/tensorflow/python/data/util/structure.py\", line 436, in type_spec_from_value\n",
            "    spec = type_spec._type_spec_from_value(element)  # pylint: disable=protected-access\n",
            "  File \"/usr/local/lib/python3.7/dist-packages/tensorflow/python/framework/type_spec.py\", line 898, in _type_spec_from_value\n",
            "    return tensor_spec.TensorSpec(value.shape, value.dtype)\n",
            "  File \"/usr/local/lib/python3.7/dist-packages/tensorflow/python/framework/tensor_spec.py\", line 49, in __init__\n",
            "    self._shape_tuple = tuple(self.shape.as_list())\n",
            "KeyboardInterrupt\n",
            "\n",
            "During handling of the above exception, another exception occurred:\n",
            "\n",
            "Traceback (most recent call last):\n",
            "  File \"/usr/local/lib/python3.7/dist-packages/IPython/core/interactiveshell.py\", line 1823, in showtraceback\n",
            "    stb = value._render_traceback_()\n",
            "AttributeError: 'KeyboardInterrupt' object has no attribute '_render_traceback_'\n",
            "\n",
            "During handling of the above exception, another exception occurred:\n",
            "\n",
            "Traceback (most recent call last):\n",
            "  File \"/usr/local/lib/python3.7/dist-packages/IPython/core/ultratb.py\", line 1132, in get_records\n",
            "    return _fixed_getinnerframes(etb, number_of_lines_of_context, tb_offset)\n",
            "  File \"/usr/local/lib/python3.7/dist-packages/IPython/core/ultratb.py\", line 313, in wrapped\n",
            "    return f(*args, **kwargs)\n",
            "  File \"/usr/local/lib/python3.7/dist-packages/IPython/core/ultratb.py\", line 358, in _fixed_getinnerframes\n",
            "    records = fix_frame_records_filenames(inspect.getinnerframes(etb, context))\n",
            "  File \"/usr/lib/python3.7/inspect.py\", line 1502, in getinnerframes\n",
            "    frameinfo = (tb.tb_frame,) + getframeinfo(tb, context)\n",
            "  File \"/usr/lib/python3.7/inspect.py\", line 1460, in getframeinfo\n",
            "    filename = getsourcefile(frame) or getfile(frame)\n",
            "  File \"/usr/lib/python3.7/inspect.py\", line 696, in getsourcefile\n",
            "    if getattr(getmodule(object, filename), '__loader__', None) is not None:\n",
            "  File \"/usr/lib/python3.7/inspect.py\", line 739, in getmodule\n",
            "    f = getabsfile(module)\n",
            "  File \"/usr/lib/python3.7/inspect.py\", line 708, in getabsfile\n",
            "    _filename = getsourcefile(object) or getfile(object)\n",
            "  File \"/usr/lib/python3.7/inspect.py\", line 693, in getsourcefile\n",
            "    if os.path.exists(filename):\n",
            "  File \"/usr/lib/python3.7/genericpath.py\", line 19, in exists\n",
            "    os.stat(path)\n",
            "KeyboardInterrupt\n"
          ]
        },
        {
          "output_type": "error",
          "ename": "KeyboardInterrupt",
          "evalue": "ignored",
          "traceback": [
            "\u001b[0;31m---------------------------------------------------------------------------\u001b[0m"
          ]
        }
      ]
    },
    {
      "cell_type": "code",
      "source": [
        "plt.figure(figsize=(14, 8))\n",
        "plt.plot(rewards)\n",
        "plt.xlabel(\"Episodio\", fontsize=14)\n",
        "plt.ylabel(\"Recompensas\", fontsize=14)\n",
        "#save_fig(\"dqn_rewards_plot\")\n",
        "plt.show()"
      ],
      "metadata": {
        "colab": {
          "base_uri": "https://localhost:8080/",
          "height": 515
        },
        "id": "ZIophEOyXnVl",
        "outputId": "d423dc47-951f-49d5-b6fb-f96de380b9ba"
      },
      "execution_count": 24,
      "outputs": [
        {
          "output_type": "display_data",
          "data": {
            "text/plain": [
              "<Figure size 1008x576 with 1 Axes>"
            ],
            "image/png": "[encoded data removed]"
          },
          "metadata": {
            "needs_background": "light"
          }
        }
      ]
    },
    {
      "cell_type": "code",
      "source": [
        ""
      ],
      "metadata": {
        "id": "DH6oz8s6c2mM"
      },
      "execution_count": null,
      "outputs": []
    }
  ]
}